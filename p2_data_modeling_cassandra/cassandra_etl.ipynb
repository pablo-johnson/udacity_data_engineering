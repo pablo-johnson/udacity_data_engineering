{
 "cells": [
  {
   "cell_type": "markdown",
   "metadata": {},
   "source": [
    "### Udacity Data Engineering Nanodegree\n",
    "# Project 2: Data Modeling with Apache Cassandra\n",
    "\n",
    "##### A complete description of the project goals and scope are available [here in the README.md](https://github.com/tommytracey/udacity_data_engineering/tree/master/p2_data_modeling_cassandra)\n",
    "\n",
    "&nbsp;"
   ]
  },
  {
   "cell_type": "markdown",
   "metadata": {},
   "source": [
    "#### Import Python packages "
   ]
  },
  {
   "cell_type": "code",
   "execution_count": 1,
   "metadata": {},
   "outputs": [],
   "source": [
    "import pandas as pd\n",
    "import cassandra\n",
    "import re\n",
    "import os\n",
    "import glob\n",
    "import numpy as np\n",
    "import json\n",
    "import csv"
   ]
  },
  {
   "cell_type": "markdown",
   "metadata": {},
   "source": [
    "---\n",
    "# Part I. &mdash; ETL Pipeline\n",
    "The following code is used for pre-processing the source CSV files"
   ]
  },
  {
   "cell_type": "markdown",
   "metadata": {},
   "source": [
    "#### Create list of filepaths to process original event csv data files"
   ]
  },
  {
   "cell_type": "code",
   "execution_count": 2,
   "metadata": {},
   "outputs": [
    {
     "name": "stdout",
     "output_type": "stream",
     "text": [
      "/home/workspace\n"
     ]
    }
   ],
   "source": [
    "# checking your current working directory\n",
    "print(os.getcwd())\n",
    "\n",
    "# Get your current folder and subfolder event data\n",
    "filepath = os.getcwd() + '/event_data'\n",
    "\n",
    "# Create a for loop to create a list of files and collect each filepath\n",
    "for root, dirs, files in os.walk(filepath):\n",
    "    \n",
    "# join the file path and roots with the subdirectories using glob\n",
    "    file_path_list = glob.glob(os.path.join(root,'*'))\n",
    "    #print(file_path_list)"
   ]
  },
  {
   "cell_type": "markdown",
   "metadata": {},
   "source": [
    "#### Process the files to create the data file csv that will be used for Apache Casssandra tables"
   ]
  },
  {
   "cell_type": "code",
   "execution_count": 3,
   "metadata": {},
   "outputs": [
    {
     "name": "stdout",
     "output_type": "stream",
     "text": [
      "total rows from CSV source files: 8056\n",
      "\n",
      "source data sample:\n",
      "[['Rokia TraorÃ\\x83Â©', 'Logged In', 'Stefany', 'F', '0', 'White', '274.88608', 'free', 'Lubbock, TX', 'PUT', 'NextSong', '1.54071E+12', '693', 'Zen', '200', '1.54251E+12', '83'], ['', 'Logged In', 'Tucker', 'M', '0', 'Garrison', '', 'free', 'Oxnard-Thousand Oaks-Ventura, CA', 'GET', 'Home', '1.54083E+12', '555', '', '200', '1.54251E+12', '40'], ['Camila', 'Logged In', 'Tucker', 'M', '1', 'Garrison', '230.81751', 'free', 'Oxnard-Thousand Oaks-Ventura, CA', 'PUT', 'NextSong', '1.54083E+12', '555', 'Abrazame  (Version Acustica)', '200', '1.54251E+12', '40']]\n"
     ]
    }
   ],
   "source": [
    "# initiate an empty list of rows that will be generated from each file\n",
    "full_data_rows_list = [] \n",
    "    \n",
    "# for every filepath in the file path list \n",
    "for f in file_path_list:\n",
    "\n",
    "# read csv file \n",
    "    with open(f, 'r', encoding = 'utf8', newline='') as csvfile: \n",
    "        # create a csv reader object \n",
    "        csvreader = csv.reader(csvfile) \n",
    "        next(csvreader)\n",
    "        \n",
    " # extract each data row one by one and append it        \n",
    "        for line in csvreader:\n",
    "            full_data_rows_list.append(line) \n",
    "            \n",
    "# display total number of rows \n",
    "print('total rows from CSV source files: {}'.format(len(full_data_rows_list)))\n",
    "\n",
    "# preview sample of 3 event data rows\n",
    "print('\\nsource data sample:\\n{}'.format(full_data_rows_list[0:3]))\n",
    "\n",
    "# create an event data csv file - used later to insert data into the Apache Cassandra tables\n",
    "csv.register_dialect('myDialect', quoting=csv.QUOTE_ALL, skipinitialspace=True)\n",
    "\n",
    "with open('event_datafile_new.csv', 'w', encoding = 'utf8', newline='') as f:\n",
    "    writer = csv.writer(f, dialect='myDialect')\n",
    "    writer.writerow(['artist','firstName','gender','itemInSession','lastName','length',\\\n",
    "                'level','location','sessionId','song','userId'])\n",
    "    for row in full_data_rows_list:\n",
    "        if (row[0] == ''):\n",
    "            continue\n",
    "        writer.writerow((row[0], row[2], row[3], row[4], row[5], row[6], row[7], row[8], row[12], row[13], row[16]))"
   ]
  },
  {
   "cell_type": "code",
   "execution_count": 4,
   "metadata": {},
   "outputs": [
    {
     "name": "stdout",
     "output_type": "stream",
     "text": [
      "rows inserted into new CSV file: 6821\n"
     ]
    }
   ],
   "source": [
    "# check the number of rows in your csv file\n",
    "with open('event_datafile_new.csv', 'r', encoding = 'utf8') as f:\n",
    "    print('rows inserted into new CSV file: {}'.format(sum(1 for line in f)))"
   ]
  },
  {
   "cell_type": "markdown",
   "metadata": {},
   "source": [
    "#### The new file `event_datafile_new.csv` is located within the Workspace directory. The file contains the following columns: \n",
    "- artist \n",
    "- firstName of user\n",
    "- gender of user\n",
    "- item number in session\n",
    "- last name of user\n",
    "- length of the song\n",
    "- level (paid or free song)\n",
    "- location of the user\n",
    "- sessionId\n",
    "- song title\n",
    "- userId\n",
    "\n",
    "Here is a screenshot of what the denormalized data looks like after running the code above.\n",
    "\n",
    "<img src=\"images/image_event_datafile_new.jpg\">"
   ]
  },
  {
   "cell_type": "markdown",
   "metadata": {},
   "source": [
    "---\n",
    "# Part II. Implement Apache Cassandra Database"
   ]
  },
  {
   "cell_type": "markdown",
   "metadata": {},
   "source": [
    "#### Create a Cassandra cluster"
   ]
  },
  {
   "cell_type": "code",
   "execution_count": 5,
   "metadata": {},
   "outputs": [],
   "source": [
    "# make a connection to a Cassandra instance your local machine \n",
    "\n",
    "from cassandra.cluster import Cluster\n",
    "try: \n",
    "    cluster = Cluster(['127.0.0.1']) #If you have a locally installed Apache Cassandra instance\n",
    "    session = cluster.connect()\n",
    "except Exception as e:\n",
    "    print(e)"
   ]
  },
  {
   "cell_type": "markdown",
   "metadata": {},
   "source": [
    "#### Create Keyspace"
   ]
  },
  {
   "cell_type": "code",
   "execution_count": 6,
   "metadata": {},
   "outputs": [],
   "source": [
    "# create a keyspace \n",
    "\n",
    "try:\n",
    "    session.execute(\"\"\"\n",
    "    CREATE KEYSPACE IF NOT EXISTS sparkifydb \n",
    "    WITH REPLICATION = \n",
    "    { 'class' : 'SimpleStrategy', 'replication_factor' : 1 }\"\"\"\n",
    ")\n",
    "\n",
    "except Exception as e:\n",
    "    print(e)\n"
   ]
  },
  {
   "cell_type": "markdown",
   "metadata": {},
   "source": [
    "#### Set Keyspace"
   ]
  },
  {
   "cell_type": "code",
   "execution_count": 7,
   "metadata": {},
   "outputs": [],
   "source": [
    "# set KEYSPACE to the keyspace specified above\n",
    "\n",
    "try:\n",
    "    session.set_keyspace('sparkifydb')\n",
    "except Exception as e:\n",
    "    print(e)"
   ]
  },
  {
   "cell_type": "markdown",
   "metadata": {},
   "source": [
    "#### Next, we create tables to run the following queries. With Apache Cassandra you model the database tables on the queries you want to run."
   ]
  },
  {
   "cell_type": "markdown",
   "metadata": {},
   "source": [
    "## Create queries to ask the following three questions of the data\n",
    "\n",
    "##### 1. Give the artist, song title and song's length in the music app history that was heard during  sessionId = 338, and itemInSession  = 4\n",
    "\n",
    "\n",
    "##### 2. Give only the following: name of artist, song (sorted by itemInSession) and user (first and last name) for userid = 10, sessionid = 182\n",
    "    \n",
    "\n",
    "##### 3. Give every user name (first and last) in my music app history who listened to the song 'All Hands Against His Own'\n",
    "\n",
    "\n"
   ]
  },
  {
   "cell_type": "markdown",
   "metadata": {},
   "source": [
    "### Query 1\n",
    "**Requested information:** \n",
    "Give the artist, song title and song's length in the music app history that was heard during sessionId = 338 and itemInSession = 4\n",
    "\n",
    "**Approach:**\n",
    "Since we're looking for a specific item within a specific session, we'll use `session_id` as the partition key and `item_in_session` as the clustering column. From the query results, we'll only display `artist_name`, `song_title`, and `song_duration` within a dataframe. "
   ]
  },
  {
   "cell_type": "code",
   "execution_count": 8,
   "metadata": {},
   "outputs": [],
   "source": [
    "## create table\n",
    "\n",
    "query = \"CREATE TABLE IF NOT EXISTS song_in_session \"\n",
    "query = query + \"(session_id INT, item_in_session INT, artist_name VARCHAR, song_title VARCHAR, song_duration DECIMAL, \\\n",
    "PRIMARY KEY (session_id, item_in_session))\"\n",
    "\n",
    "try:\n",
    "    session.execute(query)\n",
    "except Exception as e:\n",
    "    print(e)               "
   ]
  },
  {
   "cell_type": "code",
   "execution_count": 9,
   "metadata": {
    "scrolled": false
   },
   "outputs": [],
   "source": [
    "## insert data\n",
    "\n",
    "# read data from CSV\n",
    "file = 'event_datafile_new.csv'\n",
    "with open(file, encoding = 'utf8') as f:\n",
    "    csvreader = csv.reader(f)\n",
    "    next(csvreader) # skip header\n",
    "    for line in csvreader:\n",
    "        # insert line into Cassandra table\n",
    "        query = \"INSERT INTO song_in_session (session_id, item_in_session, artist_name, song_title, song_duration)\"\n",
    "        query = query + \"VALUES (%s, %s, %s, %s, %s)\"\n",
    "        session.execute(query, (int(line[8]), int(line[3]), line[0], line[9], float(line[5])))"
   ]
  },
  {
   "cell_type": "code",
   "execution_count": 10,
   "metadata": {},
   "outputs": [
    {
     "data": {
      "text/html": [
       "<style  type=\"text/css\" >\n",
       "</style>  \n",
       "<table id=\"T_dcda1dd4_9f6c_11e9_a2c2_0242ac120002\" > \n",
       "<thead>    <tr> \n",
       "        <th class=\"col_heading level0 col0\" >artist_name</th> \n",
       "        <th class=\"col_heading level0 col1\" >song_title</th> \n",
       "        <th class=\"col_heading level0 col2\" >song_duration</th> \n",
       "    </tr></thead> \n",
       "<tbody>    <tr> \n",
       "        <td id=\"T_dcda1dd4_9f6c_11e9_a2c2_0242ac120002row0_col0\" class=\"data row0 col0\" >Faithless</td> \n",
       "        <td id=\"T_dcda1dd4_9f6c_11e9_a2c2_0242ac120002row0_col1\" class=\"data row0 col1\" >Music Matters (Mark Knight Dub)</td> \n",
       "        <td id=\"T_dcda1dd4_9f6c_11e9_a2c2_0242ac120002row0_col2\" class=\"data row0 col2\" >495.3073</td> \n",
       "    </tr></tbody> \n",
       "</table> "
      ],
      "text/plain": [
       "<pandas.io.formats.style.Styler at 0x7fe53fdc14e0>"
      ]
     },
     "execution_count": 10,
     "metadata": {},
     "output_type": "execute_result"
    }
   ],
   "source": [
    "## output the requested information -- artist_name, song_title, song_duration\n",
    "\n",
    "# run query and save results as dataframe\n",
    "query = \"SELECT * FROM song_in_session WHERE session_id=338 AND item_in_session=4\"\n",
    "try:\n",
    "    df = pd.DataFrame(list(session.execute(query)))\n",
    "except Exception as e:\n",
    "    print(e)\n",
    "    \n",
    "# display requested fields\n",
    "df[['artist_name', 'song_title', 'song_duration']].style.hide_index()"
   ]
  },
  {
   "cell_type": "markdown",
   "metadata": {},
   "source": [
    "### Query 2\n",
    "**Requested information:** \n",
    "Give only the following: name of artist, song (sorted by itemInSession) and user (first and last name) for userid = 10, sessionid = 182\n",
    "\n",
    "**Approach:**\n",
    "Since we're seeking results for a specific user and session, we'll use both `user_id` and `session_id` as a [composite partition key](https://docs.datastax.com/en/archived/cql/3.3/cql/cql_using/useCompositePartitionKeyConcept.html). And, because we need to sort the results by `item_in_session`, we'll use that as the clustering column. From the query results, we'll only display `artist_name`, `song_title`, `user_first_name` and `user_last_name` within a dataframe. "
   ]
  },
  {
   "cell_type": "code",
   "execution_count": 11,
   "metadata": {},
   "outputs": [],
   "source": [
    "## create table\n",
    "\n",
    "query = \"CREATE TABLE IF NOT EXISTS song_in_user_session \"\n",
    "query = query + \"(user_id INT, session_id INT, item_in_session INT, artist_name VARCHAR, song_title VARCHAR, user_first_name VARCHAR, \\\n",
    "user_last_name VARCHAR, PRIMARY KEY ((user_id, session_id), item_in_session))\"  # note the composite partition key\n",
    "\n",
    "try:\n",
    "    session.execute(query)\n",
    "except Exception as e:\n",
    "    print(e)               "
   ]
  },
  {
   "cell_type": "code",
   "execution_count": 12,
   "metadata": {},
   "outputs": [],
   "source": [
    "## insert data\n",
    "\n",
    "# read data from CSV\n",
    "file = 'event_datafile_new.csv'\n",
    "with open(file, encoding = 'utf8') as f:\n",
    "    csvreader = csv.reader(f)\n",
    "    next(csvreader) # skip header\n",
    "    for line in csvreader:\n",
    "        # insert line into Cassandra table        \n",
    "        query = \"INSERT INTO song_in_user_session (user_id, session_id, item_in_session, artist_name, song_title, user_first_name, user_last_name)\"\n",
    "        query = query + \"VALUES (%s, %s, %s, %s, %s, %s, %s)\"\n",
    "        session.execute(query, (int(line[10]), int(line[8]), int(line[3]), line[0], line[9], line[1], line[4]))"
   ]
  },
  {
   "cell_type": "code",
   "execution_count": 13,
   "metadata": {},
   "outputs": [
    {
     "name": "stdout",
     "output_type": "stream",
     "text": [
      "user_id  session_id  item_in_session\n",
      "10       182         0\n",
      "10       182         1\n",
      "10       182         2\n",
      "10       182         3\n"
     ]
    }
   ],
   "source": [
    "## verify the data was inserted correctly\n",
    "\n",
    "# run query\n",
    "query = \"SELECT * FROM song_in_user_session WHERE user_id=10 AND session_id=182\"\n",
    "try:\n",
    "    rows = session.execute(query)\n",
    "except Exception as e:\n",
    "    print(e)\n",
    "\n",
    "# verify data are sorted correctly\n",
    "print('user_id  session_id  item_in_session')\n",
    "for row in rows:\n",
    "    print ('{}       {}         {}'.format(row.user_id, row.session_id, row.item_in_session))"
   ]
  },
  {
   "cell_type": "code",
   "execution_count": 14,
   "metadata": {},
   "outputs": [
    {
     "data": {
      "text/html": [
       "<style  type=\"text/css\" >\n",
       "</style>  \n",
       "<table id=\"T_e2407728_9f6c_11e9_a2c2_0242ac120002\" > \n",
       "<thead>    <tr> \n",
       "        <th class=\"col_heading level0 col0\" >artist_name</th> \n",
       "        <th class=\"col_heading level0 col1\" >song_title</th> \n",
       "        <th class=\"col_heading level0 col2\" >user_first_name</th> \n",
       "        <th class=\"col_heading level0 col3\" >user_last_name</th> \n",
       "    </tr></thead> \n",
       "<tbody>    <tr> \n",
       "        <td id=\"T_e2407728_9f6c_11e9_a2c2_0242ac120002row0_col0\" class=\"data row0 col0\" >Down To The Bone</td> \n",
       "        <td id=\"T_e2407728_9f6c_11e9_a2c2_0242ac120002row0_col1\" class=\"data row0 col1\" >Keep On Keepin' On</td> \n",
       "        <td id=\"T_e2407728_9f6c_11e9_a2c2_0242ac120002row0_col2\" class=\"data row0 col2\" >Sylvie</td> \n",
       "        <td id=\"T_e2407728_9f6c_11e9_a2c2_0242ac120002row0_col3\" class=\"data row0 col3\" >Cruz</td> \n",
       "    </tr>    <tr> \n",
       "        <td id=\"T_e2407728_9f6c_11e9_a2c2_0242ac120002row1_col0\" class=\"data row1 col0\" >Three Drives</td> \n",
       "        <td id=\"T_e2407728_9f6c_11e9_a2c2_0242ac120002row1_col1\" class=\"data row1 col1\" >Greece 2000</td> \n",
       "        <td id=\"T_e2407728_9f6c_11e9_a2c2_0242ac120002row1_col2\" class=\"data row1 col2\" >Sylvie</td> \n",
       "        <td id=\"T_e2407728_9f6c_11e9_a2c2_0242ac120002row1_col3\" class=\"data row1 col3\" >Cruz</td> \n",
       "    </tr>    <tr> \n",
       "        <td id=\"T_e2407728_9f6c_11e9_a2c2_0242ac120002row2_col0\" class=\"data row2 col0\" >Sebastien Tellier</td> \n",
       "        <td id=\"T_e2407728_9f6c_11e9_a2c2_0242ac120002row2_col1\" class=\"data row2 col1\" >Kilometer</td> \n",
       "        <td id=\"T_e2407728_9f6c_11e9_a2c2_0242ac120002row2_col2\" class=\"data row2 col2\" >Sylvie</td> \n",
       "        <td id=\"T_e2407728_9f6c_11e9_a2c2_0242ac120002row2_col3\" class=\"data row2 col3\" >Cruz</td> \n",
       "    </tr>    <tr> \n",
       "        <td id=\"T_e2407728_9f6c_11e9_a2c2_0242ac120002row3_col0\" class=\"data row3 col0\" >Lonnie Gordon</td> \n",
       "        <td id=\"T_e2407728_9f6c_11e9_a2c2_0242ac120002row3_col1\" class=\"data row3 col1\" >Catch You Baby (Steve Pitron & Max Sanna Radio Edit)</td> \n",
       "        <td id=\"T_e2407728_9f6c_11e9_a2c2_0242ac120002row3_col2\" class=\"data row3 col2\" >Sylvie</td> \n",
       "        <td id=\"T_e2407728_9f6c_11e9_a2c2_0242ac120002row3_col3\" class=\"data row3 col3\" >Cruz</td> \n",
       "    </tr></tbody> \n",
       "</table> "
      ],
      "text/plain": [
       "<pandas.io.formats.style.Styler at 0x7fe5064bbfd0>"
      ]
     },
     "execution_count": 14,
     "metadata": {},
     "output_type": "execute_result"
    }
   ],
   "source": [
    "## output the requested information -- artist_name, song_title, user_full_name\n",
    "\n",
    "# run query and save results as dataframe\n",
    "query = \"SELECT * FROM song_in_user_session WHERE user_id=10 AND session_id=182\"\n",
    "try:\n",
    "    df = pd.DataFrame(list(session.execute(query)))\n",
    "except Exception as e:\n",
    "    print(e)\n",
    "\n",
    "# display requested fields\n",
    "df[['artist_name', 'song_title', 'user_first_name', 'user_last_name']].style.hide_index()"
   ]
  },
  {
   "cell_type": "markdown",
   "metadata": {},
   "source": [
    "### Query 3\n",
    "**Requested information:** \n",
    "Give every user name (first and last) in my music app history who listened to the song 'All Hands Against His Own'\n",
    "\n",
    "**Approach:**\n",
    "Since we want the results to be unique based on a specific song, we'll use `song_title` as the partition key. And since we're looking for the set of users who listened to that song, we'll use `user_id` as the clustering column. From the query results, we'll only display `user_first_name` and `user_last_name` within a dataframe. "
   ]
  },
  {
   "cell_type": "code",
   "execution_count": 15,
   "metadata": {},
   "outputs": [],
   "source": [
    "## create table\n",
    "\n",
    "query = \"CREATE TABLE IF NOT EXISTS user_song_listen \"\n",
    "query = query + \"(user_id INT, user_first_name VARCHAR, user_last_name VARCHAR, song_title VARCHAR, \\\n",
    "PRIMARY KEY (song_title, user_id))\"\n",
    "\n",
    "try:\n",
    "    session.execute(query)\n",
    "except Exception as e:\n",
    "    print(e)               "
   ]
  },
  {
   "cell_type": "code",
   "execution_count": 16,
   "metadata": {},
   "outputs": [],
   "source": [
    "## insert data\n",
    "\n",
    "# read data from CSV\n",
    "file = 'event_datafile_new.csv'\n",
    "with open(file, encoding = 'utf8') as f:\n",
    "    csvreader = csv.reader(f)\n",
    "    next(csvreader) # skip header\n",
    "    for line in csvreader:\n",
    "        # insert line into Cassandra table\n",
    "        query = \"INSERT INTO user_song_listen (user_id, user_first_name, user_last_name, song_title)\"\n",
    "        query = query + \"VALUES (%s, %s, %s, %s)\"\n",
    "        session.execute(query, (int(line[10]), line[1], line[4], line[9]))"
   ]
  },
  {
   "cell_type": "code",
   "execution_count": 17,
   "metadata": {},
   "outputs": [
    {
     "data": {
      "text/html": [
       "<style  type=\"text/css\" >\n",
       "</style>  \n",
       "<table id=\"T_e76957b0_9f6c_11e9_a2c2_0242ac120002\" > \n",
       "<thead>    <tr> \n",
       "        <th class=\"col_heading level0 col0\" >user_first_name</th> \n",
       "        <th class=\"col_heading level0 col1\" >user_last_name</th> \n",
       "    </tr></thead> \n",
       "<tbody>    <tr> \n",
       "        <td id=\"T_e76957b0_9f6c_11e9_a2c2_0242ac120002row0_col0\" class=\"data row0 col0\" >Jacqueline</td> \n",
       "        <td id=\"T_e76957b0_9f6c_11e9_a2c2_0242ac120002row0_col1\" class=\"data row0 col1\" >Lynch</td> \n",
       "    </tr>    <tr> \n",
       "        <td id=\"T_e76957b0_9f6c_11e9_a2c2_0242ac120002row1_col0\" class=\"data row1 col0\" >Tegan</td> \n",
       "        <td id=\"T_e76957b0_9f6c_11e9_a2c2_0242ac120002row1_col1\" class=\"data row1 col1\" >Levine</td> \n",
       "    </tr>    <tr> \n",
       "        <td id=\"T_e76957b0_9f6c_11e9_a2c2_0242ac120002row2_col0\" class=\"data row2 col0\" >Sara</td> \n",
       "        <td id=\"T_e76957b0_9f6c_11e9_a2c2_0242ac120002row2_col1\" class=\"data row2 col1\" >Johnson</td> \n",
       "    </tr></tbody> \n",
       "</table> "
      ],
      "text/plain": [
       "<pandas.io.formats.style.Styler at 0x7fe506492eb8>"
      ]
     },
     "execution_count": 17,
     "metadata": {},
     "output_type": "execute_result"
    }
   ],
   "source": [
    "## output the requested information -- user_first_name, user_last_name\n",
    "\n",
    "# run query and save results as dataframe\n",
    "query = \"SELECT * FROM user_song_listen WHERE song_title='All Hands Against His Own'\"\n",
    "try:\n",
    "    df = pd.DataFrame(list(session.execute(query)))\n",
    "except Exception as e:\n",
    "    print(e)\n",
    "\n",
    "# display requested fields\n",
    "df[['user_first_name', 'user_last_name']].style.hide_index()"
   ]
  },
  {
   "cell_type": "markdown",
   "metadata": {},
   "source": [
    "### Drop the tables before closing out the sessions"
   ]
  },
  {
   "cell_type": "code",
   "execution_count": 18,
   "metadata": {},
   "outputs": [],
   "source": [
    "query1 = \"drop table song_in_session\"\n",
    "query2 = \"drop table song_in_user_session\"\n",
    "query3 = \"drop table user_song_listen\"\n",
    "\n",
    "try:\n",
    "    rows1 = session.execute(query1)\n",
    "    rows2 = session.execute(query2)\n",
    "    rows3 = session.execute(query3)\n",
    "except Exception as e:\n",
    "    print(e)"
   ]
  },
  {
   "cell_type": "markdown",
   "metadata": {},
   "source": [
    "### Close the session and cluster connection¶"
   ]
  },
  {
   "cell_type": "code",
   "execution_count": 19,
   "metadata": {},
   "outputs": [],
   "source": [
    "session.shutdown()\n",
    "cluster.shutdown()"
   ]
  }
 ],
 "metadata": {
  "kernelspec": {
   "display_name": "Python 3",
   "language": "python",
   "name": "python3"
  },
  "language_info": {
   "codemirror_mode": {
    "name": "ipython",
    "version": 3
   },
   "file_extension": ".py",
   "mimetype": "text/x-python",
   "name": "python",
   "nbconvert_exporter": "python",
   "pygments_lexer": "ipython3",
   "version": "3.6.3"
  }
 },
 "nbformat": 4,
 "nbformat_minor": 2
}
